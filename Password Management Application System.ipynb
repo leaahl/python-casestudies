{
 "cells": [
  {
   "cell_type": "markdown",
   "id": "967459e9-be37-4fcd-b921-790cbfa28d12",
   "metadata": {},
   "source": [
    "### Objective: To develop a custom password management application using Python\n",
    "\n",
    "You are a Python application developer in a start-up company. You are tasked to create a simple password\n",
    "management application for the IT support team. The application allows the IT support team members to assign new passwords for new employees, reset passwords for existing employees and unlock accounts that are locked out.\n",
    "\n",
    "Requirements of password management application:\n",
    "1. Create a user-defined function “menu” that provides the IT support team user with the following display options:\n",
    "2. Display user accounts\n",
    "3. Create new user account\n",
    "4. Update user password\n",
    "5. Unlock user account\n",
    "6. Exit application\n",
    "\n",
    "The function should also prompt the user to input a relevant selection.\n",
    "The application should keep looping with the menu until the user inputs the option to exit application."
   ]
  },
  {
   "cell_type": "code",
   "execution_count": 36,
   "id": "b625b77c-c336-4e14-8e49-b1315f352707",
   "metadata": {},
   "outputs": [],
   "source": [
    "def menu(): \n",
    "\n",
    "    print(\"\"\"\n",
    "    IT Support Password Management System Application\n",
    "    *************************************************\n",
    "    1. Display all user accounts\n",
    "    2. Create new user account\n",
    "    3. Update user password\n",
    "    4. Unlock user account\n",
    "    5. Exit application\n",
    "        \n",
    "        \"\"\")\n",
    "\n",
    "    option = input(\"Enter your option [1-5]: \")\n",
    "\n",
    "    if option == 1:\n",
    "        display_users()\n",
    "\n",
    "    elif option == 2:\n",
    "        create_user()\n",
    "\n",
    "    elif option == 3:\n",
    "        update_pw()\n",
    "\n",
    "    elif option == 4:\n",
    "        unlock_account()\n",
    "\n",
    "    print(\"Bye!\")"
   ]
  },
  {
   "cell_type": "code",
   "execution_count": 12,
   "id": "7990037b-f6e4-48bd-a5d1-f441e2d39270",
   "metadata": {},
   "outputs": [],
   "source": [
    "users = {\"kennethlow\":[\"asdasd\",\"active\"], \"jamestan\":[\"asdasd\",\"active\"], \"imransahat\":[\"asdasd\",\"locked\"]}"
   ]
  },
  {
   "cell_type": "code",
   "execution_count": 13,
   "id": "605d7962-0bc7-47b3-8e03-f09b5439cecb",
   "metadata": {},
   "outputs": [],
   "source": [
    "def display_users():\n",
    "\n",
    "    print(\"-\" *50)\n",
    "    print( \"{:<15} {:<15} {:<15}\".format(\"User ID\", \"Password\", \"Account Status\"))\n",
    "    print(\"-\" *50)\n",
    "\n",
    "    for user_id, user_data in users.items():\n",
    "        password = user_data[0]\n",
    "        account_status = user_data[1] \n",
    "        print(\"{:<15} {:<15} {:<15}\".format(user_id, password, account_status))"
   ]
  },
  {
   "cell_type": "code",
   "execution_count": 14,
   "id": "3239c1f8-5d83-435e-8043-838e667b676b",
   "metadata": {},
   "outputs": [],
   "source": [
    "def create_user():\n",
    "    \n",
    "    newuser = input(\"Enter new user ID: \")\n",
    "    \n",
    "    users[newuser] = [\"p@ssw0rd\",\"active\"]"
   ]
  },
  {
   "cell_type": "code",
   "execution_count": 15,
   "id": "47381ec7-14d3-4f02-9a44-77f05b5209a9",
   "metadata": {},
   "outputs": [],
   "source": [
    "def update_pw(users_dict):\n",
    "    user_id = input(\"Enter new user ID: \")\n",
    "    if user_id in users_dict:\n",
    "        new_pw = input(\"Enter new password (at least 6 characters): \")\n",
    "        \n",
    "        while len(new_pw) < 6:\n",
    "            print(\"Password must be at least 6 characters long.\")\n",
    "            new_pw = input(\"Enter new password (at least 6 characters): \")\n",
    "        users_dict[user_id][0] = new_pw\n",
    "        print(\"Password for user ID\", user_id, \"has been updated.\")\n",
    "    \n",
    "    else:\n",
    "        print(\"Invalid user ID.\")"
   ]
  },
  {
   "cell_type": "code",
   "execution_count": 16,
   "id": "f68ac2bb-4251-4bb2-b018-2d4386bb2d75",
   "metadata": {},
   "outputs": [],
   "source": [
    "def unlock_account():\n",
    "    user_id = input(\"Enter new user ID: \")\n",
    "    if user_id in users: \n",
    "        if users[user_id][1] == \"active\":\n",
    "            print(\"User account is already active.\")\n",
    "        \n",
    "        else: \n",
    "            users[user_id][1] = \"active\"\n",
    "            print(\"User account has been successfully unlocked.\")\n",
    "            \n",
    "    else:\n",
    "        print(\"Invalid user ID.\")"
   ]
  },
  {
   "cell_type": "code",
   "execution_count": 17,
   "id": "7624389c-a220-4c2d-8044-1e3765a65cde",
   "metadata": {},
   "outputs": [],
   "source": [
    "def check_user():\n",
    "    while True:\n",
    "        user_id = input(\"Enter new user ID: \")\n",
    "        \n",
    "        if user_id == \"exit\":\n",
    "            return None \n",
    "        \n",
    "        elif user_id in users: \n",
    "            return user_id\n",
    "        \n",
    "        else:\n",
    "             print(\"Invalid user ID. Please try again.\")"
   ]
  },
  {
   "cell_type": "code",
   "execution_count": 44,
   "id": "0df61bfc-6def-4d90-b3e2-d9f948282578",
   "metadata": {},
   "outputs": [],
   "source": [
    "users = {\"kennethlow\":[\"asdasd\",\"active\"], \"jamestan\":[\"asdasd\",\"active\"], \"imransahat\":[\"asdasd\",\"locked\"]}\n",
    "\n",
    "def menu():\n",
    "    while True:\n",
    "        print(\"\"\"\n",
    "        IT Support Password Management System Application\n",
    "        *************************************************\n",
    "        1. Display all user accounts\n",
    "        2. Create new user account\n",
    "        3. Update user password\n",
    "        4. Unlock user account\n",
    "        5. Exit application\n",
    "\n",
    "            \"\"\")\n",
    "        \n",
    "        option = input(\"Enter your option [1-5]: \")\n",
    "        \n",
    "        if option == \"1\":\n",
    "            display_users()\n",
    "        elif option == \"2\":\n",
    "            create_user()\n",
    "        elif option == \"3\":\n",
    "            update_password()\n",
    "        elif option == \"4\":\n",
    "            unlock_account()\n",
    "        elif option == \"5\":\n",
    "            print(\"Exiting application.\")\n",
    "            break\n",
    "        else:\n",
    "            print(\"Invalid selection. Please try again.\")\n",
    "            \n",
    "def display_users():\n",
    "    print(\"-\" *50)\n",
    "    print( \"{:<15} {:<15} {:<15}\".format(\"User ID\", \"Password\", \"Account Status\"))\n",
    "    print(\"-\" *50)\n",
    "\n",
    "    for user_id, user_data in users.items():\n",
    "        password = user_data[0]\n",
    "        account_status = user_data[1] \n",
    "        print(\"{:<15} {:<15} {:<15}\".format(user_id, password, account_status))\n",
    "\n",
    "def create_user():\n",
    "    newuser = input(\"Enter new user ID: \")\n",
    "    \n",
    "    users[newuser] = [\"p@ssw0rd\",\"active\"]\n",
    "\n",
    "def update_password():\n",
    "    user_id = input(\"Enter user ID: \")\n",
    "    if user_id in users:\n",
    "        new_pw = input(\"Enter new password (at least 6 characters): \")\n",
    "        \n",
    "        while len(new_pw) < 6:\n",
    "            print(\"Password must be at least 6 characters long.\")\n",
    "            new_pw = input(\"Enter new password (at least 6 characters): \")\n",
    "        users[user_id][0] = new_pw\n",
    "        print(\"Password for user ID\", user_id, \"has been updated.\")\n",
    "    \n",
    "    else:\n",
    "        print(\"Invalid user ID.\")\n",
    "\n",
    "def unlock_account():\n",
    "    user_id = input(\"Enter user ID: \")\n",
    "    if user_id in users: \n",
    "        if users[user_id][1] == \"active\":\n",
    "            print(\"User account is already active.\")\n",
    "        \n",
    "        else: \n",
    "            users[user_id][1] = \"active\"\n",
    "            print(\"User account has been successfully unlocked.\")\n",
    "            \n",
    "    else:\n",
    "        print(\"Invalid user ID.\")\n",
    "        \n",
    "def check_user():\n",
    "    while True:\n",
    "        user_id = input(\"Enter user ID: \")\n",
    "        \n",
    "        if user_id == \"exit\":\n",
    "            return None \n",
    "        \n",
    "        elif user_id in users: \n",
    "            return user_id\n",
    "        \n",
    "        else:\n",
    "             print(\"Invalid user ID. Please try again.\")\n"
   ]
  },
  {
   "cell_type": "code",
   "execution_count": 45,
   "id": "6a2b3798-e6d9-4544-9a7c-04ad9805e4d7",
   "metadata": {},
   "outputs": [
    {
     "name": "stdout",
     "output_type": "stream",
     "text": [
      "\n",
      "        IT Support Password Management System Application\n",
      "        *************************************************\n",
      "        1. Display all user accounts\n",
      "        2. Create new user account\n",
      "        3. Update user password\n",
      "        4. Unlock user account\n",
      "        5. Exit application\n",
      "\n",
      "            \n"
     ]
    },
    {
     "name": "stdin",
     "output_type": "stream",
     "text": [
      "Enter your option [1-5]:  1\n"
     ]
    },
    {
     "name": "stdout",
     "output_type": "stream",
     "text": [
      "--------------------------------------------------\n",
      "User ID         Password        Account Status \n",
      "--------------------------------------------------\n",
      "kennethlow      asdasd          active         \n",
      "jamestan        asdasd          active         \n",
      "imransahat      asdasd          locked         \n",
      "\n",
      "        IT Support Password Management System Application\n",
      "        *************************************************\n",
      "        1. Display all user accounts\n",
      "        2. Create new user account\n",
      "        3. Update user password\n",
      "        4. Unlock user account\n",
      "        5. Exit application\n",
      "\n",
      "            \n"
     ]
    },
    {
     "name": "stdin",
     "output_type": "stream",
     "text": [
      "Enter your option [1-5]:  2\n",
      "Enter new user ID:  Kelly\n"
     ]
    },
    {
     "name": "stdout",
     "output_type": "stream",
     "text": [
      "\n",
      "        IT Support Password Management System Application\n",
      "        *************************************************\n",
      "        1. Display all user accounts\n",
      "        2. Create new user account\n",
      "        3. Update user password\n",
      "        4. Unlock user account\n",
      "        5. Exit application\n",
      "\n",
      "            \n"
     ]
    },
    {
     "name": "stdin",
     "output_type": "stream",
     "text": [
      "Enter your option [1-5]:  3\n",
      "Enter user ID:  Kelly\n",
      "Enter new password (at least 6 characters):  helloworld\n"
     ]
    },
    {
     "name": "stdout",
     "output_type": "stream",
     "text": [
      "Password for user ID Kelly has been updated.\n",
      "\n",
      "        IT Support Password Management System Application\n",
      "        *************************************************\n",
      "        1. Display all user accounts\n",
      "        2. Create new user account\n",
      "        3. Update user password\n",
      "        4. Unlock user account\n",
      "        5. Exit application\n",
      "\n",
      "            \n"
     ]
    },
    {
     "name": "stdin",
     "output_type": "stream",
     "text": [
      "Enter your option [1-5]:  4\n",
      "Enter user ID:  imransahat\n"
     ]
    },
    {
     "name": "stdout",
     "output_type": "stream",
     "text": [
      "User account has been successfully unlocked.\n",
      "\n",
      "        IT Support Password Management System Application\n",
      "        *************************************************\n",
      "        1. Display all user accounts\n",
      "        2. Create new user account\n",
      "        3. Update user password\n",
      "        4. Unlock user account\n",
      "        5. Exit application\n",
      "\n",
      "            \n"
     ]
    },
    {
     "name": "stdin",
     "output_type": "stream",
     "text": [
      "Enter your option [1-5]:  5\n"
     ]
    },
    {
     "name": "stdout",
     "output_type": "stream",
     "text": [
      "Exiting application.\n"
     ]
    }
   ],
   "source": [
    "menu()"
   ]
  },
  {
   "cell_type": "code",
   "execution_count": null,
   "id": "99c14d49-3702-4d4c-8355-abe910098414",
   "metadata": {},
   "outputs": [],
   "source": []
  }
 ],
 "metadata": {
  "kernelspec": {
   "display_name": "Python 3 (ipykernel)",
   "language": "python",
   "name": "python3"
  },
  "language_info": {
   "codemirror_mode": {
    "name": "ipython",
    "version": 3
   },
   "file_extension": ".py",
   "mimetype": "text/x-python",
   "name": "python",
   "nbconvert_exporter": "python",
   "pygments_lexer": "ipython3",
   "version": "3.9.13"
  }
 },
 "nbformat": 4,
 "nbformat_minor": 5
}
